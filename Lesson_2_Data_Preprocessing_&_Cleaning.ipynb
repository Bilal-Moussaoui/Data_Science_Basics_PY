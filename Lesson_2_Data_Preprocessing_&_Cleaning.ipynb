{
  "nbformat": 4,
  "nbformat_minor": 0,
  "metadata": {
    "colab": {
      "provenance": [],
      "authorship_tag": "ABX9TyOuefVdrL2L/zXBayZGaupK",
      "include_colab_link": true
    },
    "kernelspec": {
      "name": "python3",
      "display_name": "Python 3"
    },
    "language_info": {
      "name": "python"
    }
  },
  "cells": [
    {
      "cell_type": "markdown",
      "metadata": {
        "id": "view-in-github",
        "colab_type": "text"
      },
      "source": [
        "<a href=\"https://colab.research.google.com/github/Bilal-Moussaoui/Data_Science_Basics_PY/blob/main/Lesson_2_Data_Preprocessing_%26_Cleaning.ipynb\" target=\"_parent\"><img src=\"https://colab.research.google.com/assets/colab-badge.svg\" alt=\"Open In Colab\"/></a>"
      ]
    },
    {
      "cell_type": "markdown",
      "source": [
        "# Data Preprocessing & Cleaning\n",
        "\n",
        "\n",
        "---\n",
        "\n",
        "\n",
        "##Objectives for todays Lesson\n",
        "1. Understand the importance of preprocessing for model performance\n",
        "2. Learn to **detect, analyze, and handle missing data**\n",
        "3. Undersant how to decide **what to impute, drop or transfrom**\n",
        "4. Implement a first, clean **data preprocessing workflow** in python.\n",
        "\n",
        "This is known as feature engineering foundation and is a principal step in every data science project."
      ],
      "metadata": {
        "id": "0X_eCRXeiPz0"
      }
    },
    {
      "cell_type": "markdown",
      "source": [
        "## 1. The context: why preprocessing matters\n",
        "We have to take some considerations with the dataset that we get:\n",
        "1. Missing values\n",
        "2. Inconsistent formats (euro, €, Euro, ...)\n",
        "3. Extreme outliers\n",
        "4. Categorical text variables\n",
        "5. Skewed numerical features.\n",
        "\n",
        "So, to start, the first step is to use pandas to display the basic information about the used dataset\n",
        "```\n",
        "# Basic info\n",
        "print(data.shape)\n",
        "print(data.info())\n",
        "\n",
        "# Quick look at missing values\n",
        "print(data.isnull().sum().sort_values(ascending=False).head(10))\n",
        "```\n"
      ],
      "metadata": {
        "id": "GuQeri9Si9fY"
      }
    },
    {
      "cell_type": "markdown",
      "source": [
        "### Step 1: Load and inspect the data"
      ],
      "metadata": {
        "id": "Arso-2Wil4Of"
      }
    },
    {
      "cell_type": "code",
      "source": [
        "import pandas as pd\n",
        "import numpy as np\n",
        "\n",
        "# Load dataset\n",
        "data = pd.read_csv(\"/content/sample_data/house_price_train.csv\")\n",
        "\n",
        "# Basic info\n",
        "# print(data.shape) # Cell shape + Class of the object.\n",
        "# print(data.info()) # Column_id + Type of Collumn (Non-null values) + Column Data Type\n",
        "\n",
        "# Quick look at missing values (Which columns have missing values)\n",
        "print(data.isnull().sum().sort_values(ascending=False).head(10))"
      ],
      "metadata": {
        "colab": {
          "base_uri": "https://localhost:8080/"
        },
        "id": "ol4dclk8kmLR",
        "outputId": "65d5eff6-9c61-45ff-d95a-de7dc2a06893"
      },
      "execution_count": 7,
      "outputs": [
        {
          "output_type": "stream",
          "name": "stdout",
          "text": [
            "PoolQC          1453\n",
            "MiscFeature     1406\n",
            "Alley           1369\n",
            "Fence           1179\n",
            "MasVnrType       872\n",
            "FireplaceQu      690\n",
            "LotFrontage      259\n",
            "GarageQual        81\n",
            "GarageFinish      81\n",
            "GarageType        81\n",
            "dtype: int64\n"
          ]
        }
      ]
    },
    {
      "cell_type": "markdown",
      "source": [
        "### Step 2: Quantify missing data\n",
        "\n",
        "We have to measure how problematic each column is. This will help us see which feature have many nulls and which have few.\n",
        "\n",
        "> **IF an attribute has many nulls => We should drop it**\n",
        "> **IF an attribute has few => We should impute them**\n"
      ],
      "metadata": {
        "id": "M6jE3jWXmC0z"
      }
    },
    {
      "cell_type": "code",
      "source": [
        "missing = data.isnull().sum()\n",
        "# Filters the missing Series, keeping only the entries where the value is greater than 0 (columns with missing value)\n",
        "missing = missing[missing > 0]\n",
        "missing_percent = ((missing / len(data)) * 100).sort_values(ascending=False)\n",
        "missing_df = pd.DataFrame({'Missing Values': missing, 'Percent': missing_percent})\n",
        "print(missing_df)"
      ],
      "metadata": {
        "colab": {
          "base_uri": "https://localhost:8080/"
        },
        "id": "bPDipOIgmr7s",
        "outputId": "bf17e22c-17ad-4016-c617-d2457a49ede1"
      },
      "execution_count": 18,
      "outputs": [
        {
          "output_type": "stream",
          "name": "stdout",
          "text": [
            "              Missing Values    Percent\n",
            "Alley                   1369  93.767123\n",
            "BsmtCond                  37   2.534247\n",
            "BsmtExposure              38   2.602740\n",
            "BsmtFinType1              37   2.534247\n",
            "BsmtFinType2              38   2.602740\n",
            "BsmtQual                  37   2.534247\n",
            "Electrical                 1   0.068493\n",
            "Fence                   1179  80.753425\n",
            "FireplaceQu              690  47.260274\n",
            "GarageCond                81   5.547945\n",
            "GarageFinish              81   5.547945\n",
            "GarageQual                81   5.547945\n",
            "GarageType                81   5.547945\n",
            "GarageYrBlt               81   5.547945\n",
            "LotFrontage              259  17.739726\n",
            "MasVnrArea                 8   0.547945\n",
            "MasVnrType               872  59.726027\n",
            "MiscFeature             1406  96.301370\n",
            "PoolQC                  1453  99.520548\n"
          ]
        }
      ]
    },
    {
      "cell_type": "markdown",
      "source": [],
      "metadata": {
        "id": "zt0gshyanp9u"
      }
    }
  ]
}